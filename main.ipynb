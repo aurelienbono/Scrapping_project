{
 "cells": [
  {
   "cell_type": "code",
   "execution_count": 626,
   "metadata": {},
   "outputs": [],
   "source": [
    "from bs4 import BeautifulSoup \n",
    "import requests \n",
    "import pandas as pd \n",
    "import numpy as np"
   ]
  },
  {
   "cell_type": "code",
   "execution_count": 627,
   "metadata": {},
   "outputs": [
    {
     "data": {
      "text/html": [
       "<div>\n",
       "<style scoped>\n",
       "    .dataframe tbody tr th:only-of-type {\n",
       "        vertical-align: middle;\n",
       "    }\n",
       "\n",
       "    .dataframe tbody tr th {\n",
       "        vertical-align: top;\n",
       "    }\n",
       "\n",
       "    .dataframe thead th {\n",
       "        text-align: right;\n",
       "    }\n",
       "</style>\n",
       "<table border=\"1\" class=\"dataframe\">\n",
       "  <thead>\n",
       "    <tr style=\"text-align: right;\">\n",
       "      <th></th>\n",
       "      <th>Entreprise_name</th>\n",
       "      <th>personal_link</th>\n",
       "    </tr>\n",
       "  </thead>\n",
       "  <tbody>\n",
       "    <tr>\n",
       "      <th>0</th>\n",
       "      <td>BOURSE DES VALEURS MOBILIÈRES DE L’AFRIQUE CE...</td>\n",
       "      <td>https://www.legicam.cm/index.php/p/douala-stoc...</td>\n",
       "    </tr>\n",
       "    <tr>\n",
       "      <th>1</th>\n",
       "      <td>3T CAMEROUN</td>\n",
       "      <td>https://www.legicam.cm/index.php/p/3t-cameroun-1</td>\n",
       "    </tr>\n",
       "    <tr>\n",
       "      <th>2</th>\n",
       "      <td>ABB (ASEA BROWN BOVERI)</td>\n",
       "      <td>https://www.legicam.cm/index.php/p/abb-asea-br...</td>\n",
       "    </tr>\n",
       "    <tr>\n",
       "      <th>3</th>\n",
       "      <td>ABIOGeT</td>\n",
       "      <td>https://www.legicam.cm/index.php/p/abioget</td>\n",
       "    </tr>\n",
       "    <tr>\n",
       "      <th>4</th>\n",
       "      <td>AC2P (ASSOCIATION CAMEROUNAISE DES PROFESSIONN...</td>\n",
       "      <td>https://www.legicam.cm/index.php/p/ac2p-associ...</td>\n",
       "    </tr>\n",
       "    <tr>\n",
       "      <th>...</th>\n",
       "      <td>...</td>\n",
       "      <td>...</td>\n",
       "    </tr>\n",
       "    <tr>\n",
       "      <th>428</th>\n",
       "      <td>WISDOM INTERNATIONAL</td>\n",
       "      <td>https://www.legicam.cm/index.php/p/wisdom-inte...</td>\n",
       "    </tr>\n",
       "    <tr>\n",
       "      <th>429</th>\n",
       "      <td>YOOMEE Cameroun</td>\n",
       "      <td>https://www.legicam.cm/index.php/p/yoomee-came...</td>\n",
       "    </tr>\n",
       "    <tr>\n",
       "      <th>430</th>\n",
       "      <td>YUP CAMEROUN S.A</td>\n",
       "      <td>https://www.legicam.cm/index.php/p/yup-camerou...</td>\n",
       "    </tr>\n",
       "    <tr>\n",
       "      <th>431</th>\n",
       "      <td>ZATI CONSTRUCTIONS</td>\n",
       "      <td>https://www.legicam.cm/index.php/p/zati-constr...</td>\n",
       "    </tr>\n",
       "    <tr>\n",
       "      <th>432</th>\n",
       "      <td>ZENITHE INSURANCE SA</td>\n",
       "      <td>https://www.legicam.cm/index.php/p/zenithe-ins...</td>\n",
       "    </tr>\n",
       "  </tbody>\n",
       "</table>\n",
       "<p>433 rows × 2 columns</p>\n",
       "</div>"
      ],
      "text/plain": [
       "                                       Entreprise_name  \\\n",
       "0     BOURSE DES VALEURS MOBILIÈRES DE L’AFRIQUE CE...   \n",
       "1                                          3T CAMEROUN   \n",
       "2                              ABB (ASEA BROWN BOVERI)   \n",
       "3                                              ABIOGeT   \n",
       "4    AC2P (ASSOCIATION CAMEROUNAISE DES PROFESSIONN...   \n",
       "..                                                 ...   \n",
       "428                               WISDOM INTERNATIONAL   \n",
       "429                                    YOOMEE Cameroun   \n",
       "430                                   YUP CAMEROUN S.A   \n",
       "431                                 ZATI CONSTRUCTIONS   \n",
       "432                               ZENITHE INSURANCE SA   \n",
       "\n",
       "                                         personal_link  \n",
       "0    https://www.legicam.cm/index.php/p/douala-stoc...  \n",
       "1     https://www.legicam.cm/index.php/p/3t-cameroun-1  \n",
       "2    https://www.legicam.cm/index.php/p/abb-asea-br...  \n",
       "3           https://www.legicam.cm/index.php/p/abioget  \n",
       "4    https://www.legicam.cm/index.php/p/ac2p-associ...  \n",
       "..                                                 ...  \n",
       "428  https://www.legicam.cm/index.php/p/wisdom-inte...  \n",
       "429  https://www.legicam.cm/index.php/p/yoomee-came...  \n",
       "430  https://www.legicam.cm/index.php/p/yup-camerou...  \n",
       "431  https://www.legicam.cm/index.php/p/zati-constr...  \n",
       "432  https://www.legicam.cm/index.php/p/zenithe-ins...  \n",
       "\n",
       "[433 rows x 2 columns]"
      ]
     },
     "execution_count": 627,
     "metadata": {},
     "output_type": "execute_result"
    }
   ],
   "source": [
    "df = pd.read_csv('data/gicam_member_data.csv')\n",
    "df"
   ]
  },
  {
   "cell_type": "code",
   "execution_count": 628,
   "metadata": {},
   "outputs": [
    {
     "ename": "KeyError",
     "evalue": "'other_link'",
     "output_type": "error",
     "traceback": [
      "\u001b[0;31m---------------------------------------------------------------------------\u001b[0m",
      "\u001b[0;31mKeyError\u001b[0m                                  Traceback (most recent call last)",
      "File \u001b[0;32m/Library/Frameworks/Python.framework/Versions/3.10/lib/python3.10/site-packages/pandas/core/indexes/base.py:3621\u001b[0m, in \u001b[0;36mIndex.get_loc\u001b[0;34m(self, key, method, tolerance)\u001b[0m\n\u001b[1;32m   3620\u001b[0m \u001b[39mtry\u001b[39;00m:\n\u001b[0;32m-> 3621\u001b[0m     \u001b[39mreturn\u001b[39;00m \u001b[39mself\u001b[39;49m\u001b[39m.\u001b[39;49m_engine\u001b[39m.\u001b[39;49mget_loc(casted_key)\n\u001b[1;32m   3622\u001b[0m \u001b[39mexcept\u001b[39;00m \u001b[39mKeyError\u001b[39;00m \u001b[39mas\u001b[39;00m err:\n",
      "File \u001b[0;32mpandas/_libs/index.pyx:136\u001b[0m, in \u001b[0;36mpandas._libs.index.IndexEngine.get_loc\u001b[0;34m()\u001b[0m\n",
      "File \u001b[0;32mpandas/_libs/index.pyx:163\u001b[0m, in \u001b[0;36mpandas._libs.index.IndexEngine.get_loc\u001b[0;34m()\u001b[0m\n",
      "File \u001b[0;32mpandas/_libs/hashtable_class_helper.pxi:5198\u001b[0m, in \u001b[0;36mpandas._libs.hashtable.PyObjectHashTable.get_item\u001b[0;34m()\u001b[0m\n",
      "File \u001b[0;32mpandas/_libs/hashtable_class_helper.pxi:5206\u001b[0m, in \u001b[0;36mpandas._libs.hashtable.PyObjectHashTable.get_item\u001b[0;34m()\u001b[0m\n",
      "\u001b[0;31mKeyError\u001b[0m: 'other_link'",
      "\nThe above exception was the direct cause of the following exception:\n",
      "\u001b[0;31mKeyError\u001b[0m                                  Traceback (most recent call last)",
      "\u001b[1;32m/Users/Aurelien/Documents/projet/EurekaGeo/Projet/Scrapping_project/main.ipynb Cellule 3\u001b[0m in \u001b[0;36m<cell line: 1>\u001b[0;34m()\u001b[0m\n\u001b[0;32m----> <a href='vscode-notebook-cell:/Users/Aurelien/Documents/projet/EurekaGeo/Projet/Scrapping_project/main.ipynb#Y132sZmlsZQ%3D%3D?line=0'>1</a>\u001b[0m df[\u001b[39m'\u001b[39m\u001b[39mpersonal_link\u001b[39m\u001b[39m'\u001b[39m] \u001b[39m=\u001b[39m \u001b[39m'\u001b[39m\u001b[39mhttps://www.legicam.cm\u001b[39m\u001b[39m'\u001b[39m\u001b[39m+\u001b[39mdf[\u001b[39m'\u001b[39;49m\u001b[39mother_link\u001b[39;49m\u001b[39m'\u001b[39;49m]\n",
      "File \u001b[0;32m/Library/Frameworks/Python.framework/Versions/3.10/lib/python3.10/site-packages/pandas/core/frame.py:3505\u001b[0m, in \u001b[0;36mDataFrame.__getitem__\u001b[0;34m(self, key)\u001b[0m\n\u001b[1;32m   3503\u001b[0m \u001b[39mif\u001b[39;00m \u001b[39mself\u001b[39m\u001b[39m.\u001b[39mcolumns\u001b[39m.\u001b[39mnlevels \u001b[39m>\u001b[39m \u001b[39m1\u001b[39m:\n\u001b[1;32m   3504\u001b[0m     \u001b[39mreturn\u001b[39;00m \u001b[39mself\u001b[39m\u001b[39m.\u001b[39m_getitem_multilevel(key)\n\u001b[0;32m-> 3505\u001b[0m indexer \u001b[39m=\u001b[39m \u001b[39mself\u001b[39;49m\u001b[39m.\u001b[39;49mcolumns\u001b[39m.\u001b[39;49mget_loc(key)\n\u001b[1;32m   3506\u001b[0m \u001b[39mif\u001b[39;00m is_integer(indexer):\n\u001b[1;32m   3507\u001b[0m     indexer \u001b[39m=\u001b[39m [indexer]\n",
      "File \u001b[0;32m/Library/Frameworks/Python.framework/Versions/3.10/lib/python3.10/site-packages/pandas/core/indexes/base.py:3623\u001b[0m, in \u001b[0;36mIndex.get_loc\u001b[0;34m(self, key, method, tolerance)\u001b[0m\n\u001b[1;32m   3621\u001b[0m     \u001b[39mreturn\u001b[39;00m \u001b[39mself\u001b[39m\u001b[39m.\u001b[39m_engine\u001b[39m.\u001b[39mget_loc(casted_key)\n\u001b[1;32m   3622\u001b[0m \u001b[39mexcept\u001b[39;00m \u001b[39mKeyError\u001b[39;00m \u001b[39mas\u001b[39;00m err:\n\u001b[0;32m-> 3623\u001b[0m     \u001b[39mraise\u001b[39;00m \u001b[39mKeyError\u001b[39;00m(key) \u001b[39mfrom\u001b[39;00m \u001b[39merr\u001b[39;00m\n\u001b[1;32m   3624\u001b[0m \u001b[39mexcept\u001b[39;00m \u001b[39mTypeError\u001b[39;00m:\n\u001b[1;32m   3625\u001b[0m     \u001b[39m# If we have a listlike key, _check_indexing_error will raise\u001b[39;00m\n\u001b[1;32m   3626\u001b[0m     \u001b[39m#  InvalidIndexError. Otherwise we fall through and re-raise\u001b[39;00m\n\u001b[1;32m   3627\u001b[0m     \u001b[39m#  the TypeError.\u001b[39;00m\n\u001b[1;32m   3628\u001b[0m     \u001b[39mself\u001b[39m\u001b[39m.\u001b[39m_check_indexing_error(key)\n",
      "\u001b[0;31mKeyError\u001b[0m: 'other_link'"
     ]
    }
   ],
   "source": [
    "df['personal_link'] = 'https://www.legicam.cm'+df['other_link']"
   ]
  },
  {
   "cell_type": "code",
   "execution_count": null,
   "metadata": {},
   "outputs": [],
   "source": [
    "df.drop(columns=['other_link' , 'Unnamed: 0'] , inplace=True , )"
   ]
  },
  {
   "cell_type": "code",
   "execution_count": 629,
   "metadata": {},
   "outputs": [],
   "source": [
    "df.to_csv(\"data/gicam_member_data.csv\")"
   ]
  },
  {
   "cell_type": "code",
   "execution_count": null,
   "metadata": {},
   "outputs": [],
   "source": []
  },
  {
   "cell_type": "code",
   "execution_count": null,
   "metadata": {},
   "outputs": [],
   "source": []
  },
  {
   "cell_type": "code",
   "execution_count": null,
   "metadata": {},
   "outputs": [],
   "source": [
    "allLink = df['personal_link'].values.tolist()"
   ]
  },
  {
   "cell_type": "code",
   "execution_count": null,
   "metadata": {},
   "outputs": [],
   "source": [
    "### JE VEUX D'ABORD SCRAPPER UN PAGE "
   ]
  },
  {
   "cell_type": "code",
   "execution_count": null,
   "metadata": {},
   "outputs": [],
   "source": [
    "#creation des  tableauc numpy pour \n",
    "contenu_temp  = [ ]  \n",
    "mesInfo = { }\n",
    "data = pd.DataFrame(columns=['Nom', 'Activités', 'Ss_activités', 'Boite_postale', 'Ville', 'Fax', 'Email', 'Localisation', 'Dirigeant(s)'])\n",
    "title  = ''"
   ]
  },
  {
   "cell_type": "code",
   "execution_count": 634,
   "metadata": {},
   "outputs": [],
   "source": [
    "\n",
    "def getInformation(url):\n",
    "    page = requests.get(url)\n",
    "    soup = BeautifulSoup(page.content , 'html.parser')\n",
    "    title = soup.select('.title >h1')[0].getText().strip()\n",
    "\n",
    "    for p_div in soup.select('.media > .media-body')[0]: \n",
    "        for p in p_div : \n",
    "            my_string = str(p.getText())\n",
    "            contenu_temp.append(my_string.split(':')[1])\n",
    "            \n",
    "    ## Insertion de ces data dans le dataframe        \n",
    "\n",
    "    data.append({'Nom': title,\n",
    "    'Activités': contenu_temp[0],\n",
    "    'Ss_activités': contenu_temp[1],\n",
    "    'Boite_postale': contenu_temp[2],\n",
    "    'Ville': contenu_temp[3],\n",
    "    'Fax': contenu_temp[4],\n",
    "    'Email': contenu_temp[5],\n",
    "    'Localisation': contenu_temp[6],\n",
    "    'Dirigeant(s)': contenu_temp[7]})\n",
    "    \n",
    "    \n",
    "    return data\n"
   ]
  },
  {
   "cell_type": "code",
   "execution_count": 635,
   "metadata": {},
   "outputs": [
    {
     "data": {
      "text/plain": [
       "'https://www.legicam.cm/index.php/p/douala-stock-exchange-dsx'"
      ]
     },
     "execution_count": 635,
     "metadata": {},
     "output_type": "execute_result"
    }
   ],
   "source": [
    "allLink[0]"
   ]
  },
  {
   "cell_type": "code",
   "execution_count": 636,
   "metadata": {},
   "outputs": [
    {
     "name": "stderr",
     "output_type": "stream",
     "text": [
      "/var/folders/8q/8d782ynj03g_qfjq1ptf4v1w0000gn/T/ipykernel_70840/3903253658.py:15: FutureWarning: The frame.append method is deprecated and will be removed from pandas in a future version. Use pandas.concat instead.\n",
      "  data.append({'Nom': title,\n"
     ]
    },
    {
     "ename": "TypeError",
     "evalue": "Can only append a dict if ignore_index=True",
     "output_type": "error",
     "traceback": [
      "\u001b[0;31m---------------------------------------------------------------------------\u001b[0m",
      "\u001b[0;31mTypeError\u001b[0m                                 Traceback (most recent call last)",
      "\u001b[1;32m/Users/Aurelien/Documents/projet/EurekaGeo/Projet/Scrapping_project/main.ipynb Cellule 13\u001b[0m in \u001b[0;36m<cell line: 1>\u001b[0;34m()\u001b[0m\n\u001b[0;32m----> <a href='vscode-notebook-cell:/Users/Aurelien/Documents/projet/EurekaGeo/Projet/Scrapping_project/main.ipynb#Y166sZmlsZQ%3D%3D?line=0'>1</a>\u001b[0m getInformation(allLink[\u001b[39m0\u001b[39;49m])\n",
      "\u001b[1;32m/Users/Aurelien/Documents/projet/EurekaGeo/Projet/Scrapping_project/main.ipynb Cellule 13\u001b[0m in \u001b[0;36mgetInformation\u001b[0;34m(url)\u001b[0m\n\u001b[1;32m     <a href='vscode-notebook-cell:/Users/Aurelien/Documents/projet/EurekaGeo/Projet/Scrapping_project/main.ipynb#Y166sZmlsZQ%3D%3D?line=10'>11</a>\u001b[0m         contenu_temp\u001b[39m.\u001b[39mappend(my_string\u001b[39m.\u001b[39msplit(\u001b[39m'\u001b[39m\u001b[39m:\u001b[39m\u001b[39m'\u001b[39m)[\u001b[39m1\u001b[39m])\n\u001b[1;32m     <a href='vscode-notebook-cell:/Users/Aurelien/Documents/projet/EurekaGeo/Projet/Scrapping_project/main.ipynb#Y166sZmlsZQ%3D%3D?line=12'>13</a>\u001b[0m \u001b[39m## Insertion de ces data dans le dataframe        \u001b[39;00m\n\u001b[0;32m---> <a href='vscode-notebook-cell:/Users/Aurelien/Documents/projet/EurekaGeo/Projet/Scrapping_project/main.ipynb#Y166sZmlsZQ%3D%3D?line=14'>15</a>\u001b[0m data\u001b[39m.\u001b[39;49mappend({\u001b[39m'\u001b[39;49m\u001b[39mNom\u001b[39;49m\u001b[39m'\u001b[39;49m: title,\n\u001b[1;32m     <a href='vscode-notebook-cell:/Users/Aurelien/Documents/projet/EurekaGeo/Projet/Scrapping_project/main.ipynb#Y166sZmlsZQ%3D%3D?line=15'>16</a>\u001b[0m \u001b[39m'\u001b[39;49m\u001b[39mActivités\u001b[39;49m\u001b[39m'\u001b[39;49m: contenu_temp[\u001b[39m0\u001b[39;49m],\n\u001b[1;32m     <a href='vscode-notebook-cell:/Users/Aurelien/Documents/projet/EurekaGeo/Projet/Scrapping_project/main.ipynb#Y166sZmlsZQ%3D%3D?line=16'>17</a>\u001b[0m \u001b[39m'\u001b[39;49m\u001b[39mSs_activités\u001b[39;49m\u001b[39m'\u001b[39;49m: contenu_temp[\u001b[39m1\u001b[39;49m],\n\u001b[1;32m     <a href='vscode-notebook-cell:/Users/Aurelien/Documents/projet/EurekaGeo/Projet/Scrapping_project/main.ipynb#Y166sZmlsZQ%3D%3D?line=17'>18</a>\u001b[0m \u001b[39m'\u001b[39;49m\u001b[39mBoite_postale\u001b[39;49m\u001b[39m'\u001b[39;49m: contenu_temp[\u001b[39m2\u001b[39;49m],\n\u001b[1;32m     <a href='vscode-notebook-cell:/Users/Aurelien/Documents/projet/EurekaGeo/Projet/Scrapping_project/main.ipynb#Y166sZmlsZQ%3D%3D?line=18'>19</a>\u001b[0m \u001b[39m'\u001b[39;49m\u001b[39mVille\u001b[39;49m\u001b[39m'\u001b[39;49m: contenu_temp[\u001b[39m3\u001b[39;49m],\n\u001b[1;32m     <a href='vscode-notebook-cell:/Users/Aurelien/Documents/projet/EurekaGeo/Projet/Scrapping_project/main.ipynb#Y166sZmlsZQ%3D%3D?line=19'>20</a>\u001b[0m \u001b[39m'\u001b[39;49m\u001b[39mFax\u001b[39;49m\u001b[39m'\u001b[39;49m: contenu_temp[\u001b[39m4\u001b[39;49m],\n\u001b[1;32m     <a href='vscode-notebook-cell:/Users/Aurelien/Documents/projet/EurekaGeo/Projet/Scrapping_project/main.ipynb#Y166sZmlsZQ%3D%3D?line=20'>21</a>\u001b[0m \u001b[39m'\u001b[39;49m\u001b[39mEmail\u001b[39;49m\u001b[39m'\u001b[39;49m: contenu_temp[\u001b[39m5\u001b[39;49m],\n\u001b[1;32m     <a href='vscode-notebook-cell:/Users/Aurelien/Documents/projet/EurekaGeo/Projet/Scrapping_project/main.ipynb#Y166sZmlsZQ%3D%3D?line=21'>22</a>\u001b[0m \u001b[39m'\u001b[39;49m\u001b[39mLocalisation\u001b[39;49m\u001b[39m'\u001b[39;49m: contenu_temp[\u001b[39m6\u001b[39;49m],\n\u001b[1;32m     <a href='vscode-notebook-cell:/Users/Aurelien/Documents/projet/EurekaGeo/Projet/Scrapping_project/main.ipynb#Y166sZmlsZQ%3D%3D?line=22'>23</a>\u001b[0m \u001b[39m'\u001b[39;49m\u001b[39mDirigeant(s)\u001b[39;49m\u001b[39m'\u001b[39;49m: contenu_temp[\u001b[39m7\u001b[39;49m]})\n",
      "File \u001b[0;32m/Library/Frameworks/Python.framework/Versions/3.10/lib/python3.10/site-packages/pandas/core/frame.py:9039\u001b[0m, in \u001b[0;36mDataFrame.append\u001b[0;34m(self, other, ignore_index, verify_integrity, sort)\u001b[0m\n\u001b[1;32m   8936\u001b[0m \u001b[39m\"\"\"\u001b[39;00m\n\u001b[1;32m   8937\u001b[0m \u001b[39mAppend rows of `other` to the end of caller, returning a new object.\u001b[39;00m\n\u001b[1;32m   8938\u001b[0m \n\u001b[0;32m   (...)\u001b[0m\n\u001b[1;32m   9029\u001b[0m \u001b[39m4  4\u001b[39;00m\n\u001b[1;32m   9030\u001b[0m \u001b[39m\"\"\"\u001b[39;00m\n\u001b[1;32m   9031\u001b[0m warnings\u001b[39m.\u001b[39mwarn(\n\u001b[1;32m   9032\u001b[0m     \u001b[39m\"\u001b[39m\u001b[39mThe frame.append method is deprecated \u001b[39m\u001b[39m\"\u001b[39m\n\u001b[1;32m   9033\u001b[0m     \u001b[39m\"\u001b[39m\u001b[39mand will be removed from pandas in a future version. \u001b[39m\u001b[39m\"\u001b[39m\n\u001b[0;32m   (...)\u001b[0m\n\u001b[1;32m   9036\u001b[0m     stacklevel\u001b[39m=\u001b[39mfind_stack_level(),\n\u001b[1;32m   9037\u001b[0m )\n\u001b[0;32m-> 9039\u001b[0m \u001b[39mreturn\u001b[39;00m \u001b[39mself\u001b[39;49m\u001b[39m.\u001b[39;49m_append(other, ignore_index, verify_integrity, sort)\n",
      "File \u001b[0;32m/Library/Frameworks/Python.framework/Versions/3.10/lib/python3.10/site-packages/pandas/core/frame.py:9052\u001b[0m, in \u001b[0;36mDataFrame._append\u001b[0;34m(self, other, ignore_index, verify_integrity, sort)\u001b[0m\n\u001b[1;32m   9050\u001b[0m \u001b[39mif\u001b[39;00m \u001b[39misinstance\u001b[39m(other, \u001b[39mdict\u001b[39m):\n\u001b[1;32m   9051\u001b[0m     \u001b[39mif\u001b[39;00m \u001b[39mnot\u001b[39;00m ignore_index:\n\u001b[0;32m-> 9052\u001b[0m         \u001b[39mraise\u001b[39;00m \u001b[39mTypeError\u001b[39;00m(\u001b[39m\"\u001b[39m\u001b[39mCan only append a dict if ignore_index=True\u001b[39m\u001b[39m\"\u001b[39m)\n\u001b[1;32m   9053\u001b[0m     other \u001b[39m=\u001b[39m Series(other)\n\u001b[1;32m   9054\u001b[0m \u001b[39mif\u001b[39;00m other\u001b[39m.\u001b[39mname \u001b[39mis\u001b[39;00m \u001b[39mNone\u001b[39;00m \u001b[39mand\u001b[39;00m \u001b[39mnot\u001b[39;00m ignore_index:\n",
      "\u001b[0;31mTypeError\u001b[0m: Can only append a dict if ignore_index=True"
     ]
    }
   ],
   "source": [
    "getInformation(allLink[0])"
   ]
  },
  {
   "cell_type": "code",
   "execution_count": null,
   "metadata": {},
   "outputs": [],
   "source": []
  }
 ],
 "metadata": {
  "kernelspec": {
   "display_name": "Python 3.10.4 64-bit",
   "language": "python",
   "name": "python3"
  },
  "language_info": {
   "codemirror_mode": {
    "name": "ipython",
    "version": 3
   },
   "file_extension": ".py",
   "mimetype": "text/x-python",
   "name": "python",
   "nbconvert_exporter": "python",
   "pygments_lexer": "ipython3",
   "version": "3.10.4"
  },
  "orig_nbformat": 4,
  "vscode": {
   "interpreter": {
    "hash": "aee8b7b246df8f9039afb4144a1f6fd8d2ca17a180786b69acc140d282b71a49"
   }
  }
 },
 "nbformat": 4,
 "nbformat_minor": 2
}
