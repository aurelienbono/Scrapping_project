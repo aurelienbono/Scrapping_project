{
 "cells": [
  {
   "cell_type": "code",
   "execution_count": 192,
   "metadata": {},
   "outputs": [],
   "source": [
    "from bs4 import BeautifulSoup \n",
    "import requests \n",
    "import pandas as pd \n",
    "import numpy as np"
   ]
  },
  {
   "cell_type": "code",
   "execution_count": 182,
   "metadata": {},
   "outputs": [],
   "source": [
    "allLinkScrape = []\n",
    "compteur = 1\n",
    "urlLink = f'https://www.legicam.cm/index.php/p/membres?pg={compteur}'\n",
    "\n",
    "# la collection de toutes les pages que je veux scrapper \n",
    "\n",
    "for i in range(44): \n",
    "    allLinkScrape.append(f'https://www.legicam.cm/index.php/p/membres?pg={compteur}')\n",
    "    compteur+=1\n",
    "\n",
    "# l'ensemble des elements que je souhaite que je sohaite collecter     \n",
    "\n",
    "title = [ ]\n",
    "emails = [] \n",
    "Boite_postals = []\n",
    "Villes = []     \n",
    "\n",
    "# le code pour traiter les donnees brutes recu du site du gicam\n",
    "\n",
    "\n",
    "def getData(url):\n",
    "\n",
    "    from bs4 import BeautifulSoup \n",
    "    import requests \n",
    "\n",
    "    page = requests.get(url) \n",
    "    soup = BeautifulSoup(page.content , 'html.parser')\n",
    "\n",
    "    the_div = soup.find_all(class_='media-body')\n",
    "    infos = []\n",
    "        \n",
    "    first = soup.find_all(class_='media-body')\n",
    "    for item in the_div : \n",
    "        title.append(item.find('a').text)\n",
    "    for li in soup.find_all(class_='list-unstyled'): \n",
    "            infos.append(li.get_text())\n",
    "               \n",
    "    for  info in infos : \n",
    "        emails.append(info.split('\\n')[1].replace('Email : ',''))\n",
    "        Boite_postals.append(info.split('\\n')[2].replace('Boite postale : ',''))\n",
    "        Villes.append(info.split('\\n')[3].replace('Ville :',''))\n",
    "\n",
    "\n",
    "for url in allLinkScrape: \n",
    "    getData(url)\n",
    "\n"
   ]
  },
  {
   "cell_type": "code",
   "execution_count": 203,
   "metadata": {},
   "outputs": [],
   "source": [
    "# Creation de mon dataframe \n",
    "data = {'Email':emails , 'Code_Postal':Boite_postals , 'Ville':Villes}\n",
    "df = pd.DataFrame(data=data)"
   ]
  },
  {
   "cell_type": "code",
   "execution_count": 211,
   "metadata": {},
   "outputs": [],
   "source": [
    "#  data cleaning \n",
    " \n",
    "df['Email'] = df['Email'].replace('', np.nan)\n",
    "df['Code_Postal'] = df['Code_Postal'].replace('', np.nan)\n",
    "df['Ville'] = df['Ville'].replace('', np.nan)\n",
    "mydf = pd.DataFrame({\"Entreprise_name\":title })\n",
    "df['Entreprise_name'] = mydf \n"
   ]
  },
  {
   "cell_type": "code",
   "execution_count": null,
   "metadata": {},
   "outputs": [],
   "source": [
    "#savegarder le csv "
   ]
  }
 ],
 "metadata": {
  "kernelspec": {
   "display_name": "Python 3.10.4 64-bit",
   "language": "python",
   "name": "python3"
  },
  "language_info": {
   "codemirror_mode": {
    "name": "ipython",
    "version": 3
   },
   "file_extension": ".py",
   "mimetype": "text/x-python",
   "name": "python",
   "nbconvert_exporter": "python",
   "pygments_lexer": "ipython3",
   "version": "3.10.4"
  },
  "orig_nbformat": 4,
  "vscode": {
   "interpreter": {
    "hash": "aee8b7b246df8f9039afb4144a1f6fd8d2ca17a180786b69acc140d282b71a49"
   }
  }
 },
 "nbformat": 4,
 "nbformat_minor": 2
}
