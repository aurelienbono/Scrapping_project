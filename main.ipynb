{
 "cells": [
  {
   "cell_type": "code",
   "execution_count": 4,
   "metadata": {},
   "outputs": [],
   "source": [
    "from bs4 import BeautifulSoup \n",
    "import requests \n",
    "import pandas as pd \n",
    "import numpy as np"
   ]
  },
  {
   "cell_type": "code",
   "execution_count": 5,
   "metadata": {},
   "outputs": [],
   "source": [
    "page = requests.get(\"https://www.legicam.cm/index.php/p/membres?pg=1\")\n",
    "soup = BeautifulSoup(page.content , 'html.parser')"
   ]
  },
  {
   "cell_type": "code",
   "execution_count": 6,
   "metadata": {},
   "outputs": [],
   "source": [
    "allLinkScrape = []\n",
    "compteur = 1\n",
    "urlLink = f'https://www.legicam.cm/index.php/p/membres?pg={compteur}'\n",
    "\n",
    "# la collection de toutes les pages que je veux scrapper \n",
    "\n",
    "for i in range(44): \n",
    "    allLinkScrape.append(f'https://www.legicam.cm/index.php/p/membres?pg={compteur}')\n",
    "    compteur+=1\n",
    "\n",
    "# l'ensemble des elements que je souhaite que je sohaite collecter     \n",
    "\n",
    "title = [ ]\n",
    "emails = [] \n",
    "Boite_postals = []\n",
    "Villes = []     \n",
    "link_voir_plus = []\n",
    "\n",
    "# le code pour traiter les donnees brutes recu du site du gicam\n",
    "\n",
    "\n",
    "def getData(url):\n",
    "\n",
    "    from bs4 import BeautifulSoup \n",
    "    import requests \n",
    "\n",
    "    page = requests.get(url) \n",
    "    soup = BeautifulSoup(page.content , 'html.parser')\n",
    "\n",
    "    the_div = soup.find_all(class_='media-body')\n",
    "    infos = []\n",
    "        \n",
    "    first = soup.find_all(class_='media-body')\n",
    "    for item in the_div : \n",
    "        title.append(item.find('a').text)\n",
    "    for li in soup.find_all(class_='list-unstyled'): \n",
    "            link_voir_plus.append(li.select('li>a')[0]['href'])        \n",
    "            infos.append(li.get_text())\n",
    "                        \n",
    "               \n",
    "    for  info in infos : \n",
    "        emails.append(info.split('\\n')[1].replace('Email : ',''))\n",
    "        Boite_postals.append(info.split('\\n')[2].replace('Boite postale : ',''))\n",
    "        Villes.append(info.split('\\n')[3].replace('Ville :',''))\n",
    "\n",
    "\n",
    "for url in allLinkScrape: \n",
    "    getData(url)\n",
    "\n"
   ]
  },
  {
   "cell_type": "code",
   "execution_count": 7,
   "metadata": {},
   "outputs": [],
   "source": [
    "# Creation de mon dataframe \n",
    "data = {'Email':emails , 'Code_Postal':Boite_postals , 'Ville':Villes}\n",
    "df = pd.DataFrame(data=data)"
   ]
  },
  {
   "cell_type": "code",
   "execution_count": 8,
   "metadata": {},
   "outputs": [],
   "source": [
    "#  data cleaning \n",
    " \n",
    "df['Email'] = df['Email'].replace('', np.nan)\n",
    "df['Code_Postal'] = df['Code_Postal'].replace('', np.nan)\n",
    "df['Ville'] = df['Ville'].replace('', np.nan)\n",
    "mydf = pd.DataFrame({\"Entreprise_name\":title })\n",
    "df['Entreprise_name'] = mydf \n"
   ]
  },
  {
   "cell_type": "code",
   "execution_count": 9,
   "metadata": {},
   "outputs": [
    {
     "data": {
      "text/html": [
       "<div>\n",
       "<style scoped>\n",
       "    .dataframe tbody tr th:only-of-type {\n",
       "        vertical-align: middle;\n",
       "    }\n",
       "\n",
       "    .dataframe tbody tr th {\n",
       "        vertical-align: top;\n",
       "    }\n",
       "\n",
       "    .dataframe thead th {\n",
       "        text-align: right;\n",
       "    }\n",
       "</style>\n",
       "<table border=\"1\" class=\"dataframe\">\n",
       "  <thead>\n",
       "    <tr style=\"text-align: right;\">\n",
       "      <th></th>\n",
       "      <th>Email</th>\n",
       "      <th>Code_Postal</th>\n",
       "      <th>Ville</th>\n",
       "      <th>Entreprise_name</th>\n",
       "    </tr>\n",
       "  </thead>\n",
       "  <tbody>\n",
       "    <tr>\n",
       "      <th>0</th>\n",
       "      <td>info@bvmac-ac.org</td>\n",
       "      <td>B.P. 442</td>\n",
       "      <td>DOUALA</td>\n",
       "      <td>BOURSE DES VALEURS MOBILIÈRES DE L’AFRIQUE CE...</td>\n",
       "    </tr>\n",
       "    <tr>\n",
       "      <th>1</th>\n",
       "      <td>3t@tafinvestment.com</td>\n",
       "      <td>B.P. 12554</td>\n",
       "      <td>DOUALA</td>\n",
       "      <td>3T CAMEROUN</td>\n",
       "    </tr>\n",
       "    <tr>\n",
       "      <th>2</th>\n",
       "      <td>NaN</td>\n",
       "      <td>B.P. 13222</td>\n",
       "      <td>DOUALA</td>\n",
       "      <td>ABB (ASEA BROWN BOVERI)</td>\n",
       "    </tr>\n",
       "    <tr>\n",
       "      <th>3</th>\n",
       "      <td>contact@abioget.org</td>\n",
       "      <td>127</td>\n",
       "      <td>MAROUA</td>\n",
       "      <td>ABIOGeT</td>\n",
       "    </tr>\n",
       "    <tr>\n",
       "      <th>4</th>\n",
       "      <td>ac2p2013@gmail.com</td>\n",
       "      <td>B.P. 8722</td>\n",
       "      <td>DOUALA</td>\n",
       "      <td>AC2P (ASSOCIATION CAMEROUNAISE DES PROFESSIONN...</td>\n",
       "    </tr>\n",
       "  </tbody>\n",
       "</table>\n",
       "</div>"
      ],
      "text/plain": [
       "                  Email Code_Postal    Ville  \\\n",
       "0     info@bvmac-ac.org    B.P. 442   DOUALA   \n",
       "1  3t@tafinvestment.com  B.P. 12554   DOUALA   \n",
       "2                   NaN  B.P. 13222   DOUALA   \n",
       "3   contact@abioget.org         127   MAROUA   \n",
       "4    ac2p2013@gmail.com   B.P. 8722   DOUALA   \n",
       "\n",
       "                                     Entreprise_name  \n",
       "0   BOURSE DES VALEURS MOBILIÈRES DE L’AFRIQUE CE...  \n",
       "1                                        3T CAMEROUN  \n",
       "2                            ABB (ASEA BROWN BOVERI)  \n",
       "3                                            ABIOGeT  \n",
       "4  AC2P (ASSOCIATION CAMEROUNAISE DES PROFESSIONN...  "
      ]
     },
     "execution_count": 9,
     "metadata": {},
     "output_type": "execute_result"
    }
   ],
   "source": [
    "#savegarder le csv \n",
    "df.head()"
   ]
  },
  {
   "cell_type": "code",
   "execution_count": 20,
   "metadata": {},
   "outputs": [
    {
     "name": "stdout",
     "output_type": "stream",
     "text": [
      "/index.php/p/douala-stock-exchange-dsx\n",
      "/index.php/p/3t-cameroun-1\n",
      "/index.php/p/abb-asea-brown-boveri\n",
      "/index.php/p/abioget\n",
      "/index.php/p/ac2p-association-camerounaise-des-professionnels-de-la-plasturgie\n",
      "/index.php/p/acam-vie-sa\n",
      "/index.php/p/acamet\n",
      "/index.php/p/ace-african-consulting-entreprise\n",
      "/index.php/p/activa-assurances\n",
      "/index.php/p/addax-petroleum-cameroon-ltd\n",
      "mailto:gicam@legicam.cm\n"
     ]
    },
    {
     "ename": "IndexError",
     "evalue": "list index out of range",
     "output_type": "error",
     "traceback": [
      "\u001b[0;31m---------------------------------------------------------------------------\u001b[0m",
      "\u001b[0;31mIndexError\u001b[0m                                Traceback (most recent call last)",
      "\u001b[1;32m/Users/Aurelien/Documents/projet/EurekaGeo/Projet/Scrapping_project/main.ipynb Cellule 7\u001b[0m in \u001b[0;36m<cell line: 1>\u001b[0;34m()\u001b[0m\n\u001b[1;32m      <a href='vscode-notebook-cell:/Users/Aurelien/Documents/projet/EurekaGeo/Projet/Scrapping_project/main.ipynb#W6sZmlsZQ%3D%3D?line=0'>1</a>\u001b[0m \u001b[39mfor\u001b[39;00m li \u001b[39min\u001b[39;00m soup\u001b[39m.\u001b[39mfind_all(class_\u001b[39m=\u001b[39m\u001b[39m'\u001b[39m\u001b[39mlist-unstyled\u001b[39m\u001b[39m'\u001b[39m):\n\u001b[0;32m----> <a href='vscode-notebook-cell:/Users/Aurelien/Documents/projet/EurekaGeo/Projet/Scrapping_project/main.ipynb#W6sZmlsZQ%3D%3D?line=1'>2</a>\u001b[0m     \u001b[39mprint\u001b[39m(li\u001b[39m.\u001b[39;49mselect(\u001b[39m'\u001b[39;49m\u001b[39mli>a\u001b[39;49m\u001b[39m'\u001b[39;49m)[\u001b[39m0\u001b[39;49m][\u001b[39m'\u001b[39m\u001b[39mhref\u001b[39m\u001b[39m'\u001b[39m])\n",
      "\u001b[0;31mIndexError\u001b[0m: list index out of range"
     ]
    }
   ],
   "source": [
    "for li in soup.find_all(class_='list-unstyled'):\n",
    "    link_voir_plus.append(li.select('li>a')[0]['href'])"
   ]
  },
  {
   "cell_type": "code",
   "execution_count": null,
   "metadata": {},
   "outputs": [],
   "source": []
  }
 ],
 "metadata": {
  "kernelspec": {
   "display_name": "Python 3.10.4 64-bit",
   "language": "python",
   "name": "python3"
  },
  "language_info": {
   "codemirror_mode": {
    "name": "ipython",
    "version": 3
   },
   "file_extension": ".py",
   "mimetype": "text/x-python",
   "name": "python",
   "nbconvert_exporter": "python",
   "pygments_lexer": "ipython3",
   "version": "3.10.4"
  },
  "orig_nbformat": 4,
  "vscode": {
   "interpreter": {
    "hash": "aee8b7b246df8f9039afb4144a1f6fd8d2ca17a180786b69acc140d282b71a49"
   }
  }
 },
 "nbformat": 4,
 "nbformat_minor": 2
}
